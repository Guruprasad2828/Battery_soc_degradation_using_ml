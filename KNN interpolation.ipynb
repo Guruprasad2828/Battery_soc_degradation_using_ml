{
 "cells": [
  {
   "cell_type": "code",
   "execution_count": 1,
   "id": "16a44f86",
   "metadata": {},
   "outputs": [
    {
     "data": {
      "image/png": "[encoded data removed]",
      "text/plain": [
       "<Figure size 720x432 with 1 Axes>"
      ]
     },
     "metadata": {
      "needs_background": "light"
     },
     "output_type": "display_data"
    },
    {
     "name": "stdout",
     "output_type": "stream",
     "text": [
      "      days   Capacity\n",
      "0      0.0  59.961800\n",
      "1      1.0  59.954678\n",
      "2      2.0  59.949919\n",
      "3      3.0  59.947440\n",
      "4      4.0  59.947478\n",
      "..     ...        ...\n",
      "206  206.0  58.607838\n",
      "207  207.0  58.597093\n",
      "208  208.0  58.585590\n",
      "209  209.0  58.573182\n",
      "210  210.0  58.559700\n",
      "\n",
      "[211 rows x 2 columns]\n"
     ]
    }
   ],
   "source": [
    "import numpy as np\n",
    "import pandas as pd\n",
    "from sklearn.neighbors import KNeighborsRegressor\n",
    "import matplotlib.pyplot as plt\n",
    "\n",
    "# Create a sample DataFrame\n",
    "data = {\n",
    "    'X': [0, 7, 14, 28, 42, 56, 84, 98, 112, 126, 140, 168, 182, 196, 210],\n",
    "    'y': [59.9618, 59.9766, 59.8146, 59.6472, 59.6288, 59.5183, 59.3115, 59.1279, 59.1970, 59.0386, 59.8276, 58.6734, 58.6630, 58.7052, 58.5597]\n",
    "}\n",
    "\n",
    "df = pd.DataFrame(data)\n",
    "\n",
    "# Extract data from the DataFrame\n",
    "X = df[['X']].values\n",
    "y = df['y'].values\n",
    "\n",
    "# Create a KNN regression model\n",
    "k = 3  # Number of neighbors to consider\n",
    "knn_regressor = KNeighborsRegressor(n_neighbors=k, weights='distance')\n",
    "\n",
    "# Fit the model on the data\n",
    "knn_regressor.fit(X, y)\n",
    "\n",
    "# Generate 140 data points for interpolation\n",
    "X_interp = np.linspace(0, 210, 211).reshape(-1, 1)\n",
    "\n",
    "# Predict y-values for the interpolated data\n",
    "y_interp = knn_regressor.predict(X_interp)\n",
    "\n",
    "# Create a DataFrame for the interpolated data\n",
    "interp_data = {'days': X_interp.flatten(), 'Capacity': y_interp}\n",
    "interp_df = pd.DataFrame(interp_data)\n",
    "\n",
    "excel_filename = 'i1.xlsx'\n",
    "interp_df.to_excel(excel_filename, index=False)\n",
    "\n",
    "# Plot the results\n",
    "plt.figure(figsize=(10, 6))\n",
    "plt.scatter(X, y, color='blue', label='Original data')\n",
    "plt.scatter(interp_df['days'], interp_df['Capacity'], color='red', label='Interpolation', alpha=0.3)\n",
    "plt.xlabel('X')\n",
    "plt.ylabel('y')\n",
    "plt.title('DV SOC60-25(1)')\n",
    "plt.legend()\n",
    "plt.show()\n",
    "\n",
    "# Display the interpolated DataFrame\n",
    "print(interp_df)"
   ]
  },
  {
   "cell_type": "code",
   "execution_count": null,
   "id": "0a4f12d6",
   "metadata": {},
   "outputs": [],
   "source": []
  },
  {
   "cell_type": "code",
   "execution_count": null,
   "id": "be9dad8c",
   "metadata": {},
   "outputs": [],
   "source": []
  },
  {
   "cell_type": "code",
   "execution_count": null,
   "id": "b1ced9fd",
   "metadata": {},
   "outputs": [],
   "source": []
  },
  {
   "cell_type": "code",
   "execution_count": null,
   "id": "ece50413",
   "metadata": {},
   "outputs": [],
   "source": []
  },
  {
   "cell_type": "code",
   "execution_count": null,
   "id": "d60e6785",
   "metadata": {},
   "outputs": [],
   "source": []
  },
  {
   "cell_type": "code",
   "execution_count": null,
   "id": "20e60c33",
   "metadata": {},
   "outputs": [],
   "source": []
  },
  {
   "cell_type": "code",
   "execution_count": null,
   "id": "11664911",
   "metadata": {},
   "outputs": [],
   "source": []
  },
  {
   "cell_type": "code",
   "execution_count": null,
   "id": "6aa57d42",
   "metadata": {},
   "outputs": [],
   "source": []
  },
  {
   "cell_type": "code",
   "execution_count": null,
   "id": "12ffb03f",
   "metadata": {},
   "outputs": [],
   "source": []
  },
  {
   "cell_type": "code",
   "execution_count": null,
   "id": "5fd55827",
   "metadata": {},
   "outputs": [],
   "source": []
  },
  {
   "cell_type": "code",
   "execution_count": null,
   "id": "66982a9b",
   "metadata": {},
   "outputs": [],
   "source": [
    "\n"
   ]
  },
  {
   "cell_type": "code",
   "execution_count": null,
   "id": "6a9009e8",
   "metadata": {},
   "outputs": [],
   "source": []
  },
  {
   "cell_type": "code",
   "execution_count": null,
   "id": "06d540b2",
   "metadata": {},
   "outputs": [],
   "source": []
  },
  {
   "cell_type": "code",
   "execution_count": null,
   "id": "5afd207c",
   "metadata": {},
   "outputs": [],
   "source": []
  },
  {
   "cell_type": "code",
   "execution_count": null,
   "id": "c6f1fca3",
   "metadata": {},
   "outputs": [],
   "source": []
  },
  {
   "cell_type": "code",
   "execution_count": null,
   "id": "ee49a265",
   "metadata": {},
   "outputs": [],
   "source": []
  },
  {
   "cell_type": "code",
   "execution_count": null,
   "id": "56bbb2ce",
   "metadata": {},
   "outputs": [],
   "source": []
  },
  {
   "cell_type": "code",
   "execution_count": null,
   "id": "bcba7f24",
   "metadata": {},
   "outputs": [],
   "source": []
  },
  {
   "cell_type": "code",
   "execution_count": null,
   "id": "a7607e17",
   "metadata": {},
   "outputs": [],
   "source": []
  },
  {
   "cell_type": "code",
   "execution_count": null,
   "id": "12522a45",
   "metadata": {},
   "outputs": [],
   "source": []
  },
  {
   "cell_type": "code",
   "execution_count": null,
   "id": "3d6840c9",
   "metadata": {},
   "outputs": [],
   "source": []
  },
  {
   "cell_type": "code",
   "execution_count": null,
   "id": "fc3b9cb5",
   "metadata": {},
   "outputs": [],
   "source": []
  },
  {
   "cell_type": "code",
   "execution_count": null,
   "id": "0ef95900",
   "metadata": {},
   "outputs": [],
   "source": []
  }
 ],
 "metadata": {
  "kernelspec": {
   "display_name": "Python 3 (ipykernel)",
   "language": "python",
   "name": "python3"
  },
  "language_info": {
   "codemirror_mode": {
    "name": "ipython",
    "version": 3
   },
   "file_extension": ".py",
   "mimetype": "text/x-python",
   "name": "python",
   "nbconvert_exporter": "python",
   "pygments_lexer": "ipython3",
   "version": "3.10.4"
  }
 },
 "nbformat": 4,
 "nbformat_minor": 5
}
